{
 "cells": [
  {
   "cell_type": "markdown",
   "metadata": {},
   "source": [
    "# Music Practice Builder\n",
    "- Load data\n",
    "- create empty practice session\n",
    "- split into essential and non-essential items\n",
    "- add essential items to session\n",
    "- sort by priority\n"
   ]
  },
  {
   "cell_type": "markdown",
   "metadata": {},
   "source": [
    "## Configuration"
   ]
  },
  {
   "cell_type": "code",
   "execution_count": 8,
   "metadata": {
    "collapsed": true
   },
   "outputs": [],
   "source": [
    "import math\n",
    "import random\n",
    "import numpy as np\n",
    "import pandas as pd\n",
    "\n",
    "%matplotlib inline"
   ]
  },
  {
   "cell_type": "markdown",
   "metadata": {},
   "source": [
    "### Data source"
   ]
  },
  {
   "cell_type": "code",
   "execution_count": 9,
   "metadata": {
    "collapsed": true
   },
   "outputs": [],
   "source": [
    "#input_file = './practice_elements.xlsx'\n",
    "input_file = '~/Dropbox/practice_elements.xlsx'"
   ]
  },
  {
   "cell_type": "code",
   "execution_count": null,
   "metadata": {
    "collapsed": true
   },
   "outputs": [],
   "source": [
    "session_output_file"
   ]
  },
  {
   "cell_type": "markdown",
   "metadata": {},
   "source": [
    "### Session characteristics"
   ]
  },
  {
   "cell_type": "markdown",
   "metadata": {},
   "source": [
    "total_time_minutes is the required total session time, including the task switching padding time."
   ]
  },
  {
   "cell_type": "code",
   "execution_count": 10,
   "metadata": {
    "collapsed": true
   },
   "outputs": [],
   "source": [
    "total_time_minutes = 45"
   ]
  },
  {
   "cell_type": "markdown",
   "metadata": {},
   "source": [
    "The buffer time provides padding to allow for task switching time. Adjust based on experience with actual time vs session time."
   ]
  },
  {
   "cell_type": "code",
   "execution_count": 11,
   "metadata": {
    "collapsed": true
   },
   "outputs": [],
   "source": [
    "buffer_time_per_30_minutes = 5"
   ]
  },
  {
   "cell_type": "code",
   "execution_count": 12,
   "metadata": {},
   "outputs": [],
   "source": [
    "buffer_time = math.ceil(total_time_minutes / 30 * buffer_time_per_30_minutes)\n",
    "practice_time_minutes = total_time_minutes - buffer_time"
   ]
  },
  {
   "cell_type": "markdown",
   "metadata": {},
   "source": [
    "Decide whether the category item count limits are for the entire session, or for each sub-block of time.\n",
    "If this value is specified, then the category.max_item values are interpreted as limits per each N-minute block of time, rather than being applied as hard limits on the number of items for the entire session.\n",
    "\n",
    "Disable the following variable to interpret the category.max_items values as limits on the entire session."
   ]
  },
  {
   "cell_type": "code",
   "execution_count": 13,
   "metadata": {
    "collapsed": true
   },
   "outputs": [],
   "source": [
    "category_item_limits_time_block_minutes = 30"
   ]
  },
  {
   "cell_type": "markdown",
   "metadata": {},
   "source": [
    "### Presets"
   ]
  },
  {
   "cell_type": "code",
   "execution_count": 14,
   "metadata": {
    "collapsed": true
   },
   "outputs": [],
   "source": [
    "preset = None"
   ]
  },
  {
   "cell_type": "markdown",
   "metadata": {},
   "source": [
    "#### In-Depth\n",
    "If enabled, this preset scales the item time ranges, allowing generation of sessions with less items and more time per item than the default settings."
   ]
  },
  {
   "cell_type": "markdown",
   "metadata": {},
   "source": [
    "preset = {\n",
    "    #'min_min_time': 10,\n",
    "    'time_scale': 2,\n",
    "    'max_max_time': 10,\n",
    "    'min_items': np.nan,  # remove the category min item limits\n",
    "}"
   ]
  },
  {
   "cell_type": "markdown",
   "metadata": {},
   "source": [
    "## Load the data"
   ]
  },
  {
   "cell_type": "code",
   "execution_count": 15,
   "metadata": {
    "collapsed": true
   },
   "outputs": [],
   "source": [
    "categories = pd.read_excel(\n",
    "    input_file,\n",
    "    sheetname='categories',\n",
    "    index_col=0,\n",
    "    converters=\n",
    "    {\n",
    "        'min_items': int,\n",
    "        'max_items': int,\n",
    "    })"
   ]
  },
  {
   "cell_type": "code",
   "execution_count": 16,
   "metadata": {
    "collapsed": true
   },
   "outputs": [],
   "source": [
    "data = pd.read_excel(\n",
    "    input_file, \n",
    "    sheetname='items',\n",
    "    converters=\n",
    "    {\n",
    "        'min_time': int,\n",
    "        'max_time': int,\n",
    "        'priority': float,\n",
    "        'essential': bool,\n",
    "        'tempo': str,\n",
    "        'notes': str,\n",
    "    })"
   ]
  },
  {
   "cell_type": "markdown",
   "metadata": {},
   "source": [
    "### Fill in missing values with sensible defaults"
   ]
  },
  {
   "cell_type": "code",
   "execution_count": 17,
   "metadata": {
    "collapsed": true
   },
   "outputs": [],
   "source": [
    "data.weight = data.weight.fillna(1)\n",
    "data.min_time = data.min_time.fillna(2)\n",
    "data.max_time = data.max_time.fillna(5)\n",
    "data.sort_order = data.sort_order.fillna(2)\n",
    "data.tempo = data.tempo.fillna('')\n",
    "data.notes = data.notes.fillna('')"
   ]
  },
  {
   "cell_type": "markdown",
   "metadata": {},
   "source": [
    "### If required, scale the category max item count limits by the block time"
   ]
  },
  {
   "cell_type": "code",
   "execution_count": 18,
   "metadata": {
    "collapsed": true
   },
   "outputs": [],
   "source": [
    "if category_item_limits_time_block_minutes:\n",
    "    category_item_limit_scale = max(1, round(practice_time_minutes / category_item_limits_time_block_minutes))\n",
    "    categories.min_items *= category_item_limit_scale\n",
    "    categories.max_items *= category_item_limit_scale"
   ]
  },
  {
   "cell_type": "markdown",
   "metadata": {},
   "source": [
    "### Apply presets"
   ]
  },
  {
   "cell_type": "code",
   "execution_count": 19,
   "metadata": {
    "collapsed": true
   },
   "outputs": [],
   "source": [
    "if preset:\n",
    "    def apply_preset(row):\n",
    "        if not row.essential:\n",
    "            if 'time_scale' in preset:\n",
    "                row.min_time = round(row.min_time * preset['time_scale'])\n",
    "                row.max_time = round(row.max_time * preset['time_scale'])\n",
    "                \n",
    "            if 'min_min_time' in preset:\n",
    "                row.min_time = max(row.min_time, preset['min_min_time'])\n",
    "    \n",
    "            if 'max_max_time' in preset:\n",
    "                row.max_time = min(row.max_time, preset['max_max_time'])\n",
    "            \n",
    "            # make sure min_time is less than max_time\n",
    "            row.min_time = min(row.min_time, row.max_time)  \n",
    "        return row\n",
    "    \n",
    "    data = data.apply(lambda row: apply_preset(row), axis=1)\n",
    "    \n",
    "    if 'min_items' in preset:\n",
    "        categories.loc[:,'min_items'] = preset['min_items']"
   ]
  },
  {
   "cell_type": "markdown",
   "metadata": {},
   "source": [
    "## Generate the random item times"
   ]
  },
  {
   "cell_type": "code",
   "execution_count": 20,
   "metadata": {
    "collapsed": true
   },
   "outputs": [],
   "source": [
    "def generate_random_times(df):\n",
    "    return pd.DataFrame(\n",
    "        {'time': df.apply(lambda row: random.randrange(row.min_time, row.max_time+1), axis=1)}, \n",
    "        index=df.index)"
   ]
  },
  {
   "cell_type": "code",
   "execution_count": 21,
   "metadata": {
    "collapsed": true
   },
   "outputs": [],
   "source": [
    "data = data.join(generate_random_times(data))"
   ]
  },
  {
   "cell_type": "markdown",
   "metadata": {},
   "source": [
    "## Populate the session with the essential items"
   ]
  },
  {
   "cell_type": "code",
   "execution_count": 22,
   "metadata": {
    "collapsed": true
   },
   "outputs": [],
   "source": [
    "session = data.query('essential == True')"
   ]
  },
  {
   "cell_type": "markdown",
   "metadata": {},
   "source": [
    "## Extract the set of candidate items"
   ]
  },
  {
   "cell_type": "code",
   "execution_count": 23,
   "metadata": {
    "collapsed": true
   },
   "outputs": [],
   "source": [
    "items = data.query('essential == False and weight > 0')"
   ]
  },
  {
   "cell_type": "markdown",
   "metadata": {},
   "source": [
    "## Process the category minimum item count constraint"
   ]
  },
  {
   "cell_type": "code",
   "execution_count": 24,
   "metadata": {
    "collapsed": true
   },
   "outputs": [],
   "source": [
    "for category, group in items.groupby('category'):\n",
    "    # For this category, attempt to select the min number of items\n",
    "    try:\n",
    "        min_items = categories.loc[category].min_items\n",
    "        current = len(session[session.category == category])\n",
    "        required = min(min_items - current, len(group))\n",
    "        if not np.isnan(required) and required > 0:\n",
    "            new_items = group.sample(n=required, weights='weight')\n",
    "            items = items.drop(new_items.index)\n",
    "            session = session.append(new_items)\n",
    "    except:\n",
    "        pass"
   ]
  },
  {
   "cell_type": "markdown",
   "metadata": {},
   "source": [
    "## Fill the rest of the session"
   ]
  },
  {
   "cell_type": "code",
   "execution_count": 25,
   "metadata": {},
   "outputs": [
    {
     "name": "stdout",
     "output_type": "stream",
     "text": [
      "Category \"repertoire\" reached maximum item count (1)\n",
      "Category \"technique\" reached maximum item count (5)\n",
      "Category \"sight reading\" reached maximum item count (3)\n",
      "unable to fill session\n"
     ]
    }
   ],
   "source": [
    "while session.time.sum() < practice_time_minutes and len(items) > 0:\n",
    "    # Clean out any maxed categories from the candidate items\n",
    "    for category, group in items.groupby('category'):\n",
    "        current_items_in_category = len(session[session.category == category])\n",
    "        max_category = categories.loc[category].max_items\n",
    "        if not np.isnan(max_category) and current_items_in_category >= max_category:\n",
    "            print('Category \"{0}\" reached maximum item count ({1})'.format(category, max_category))\n",
    "            items = items[items.category != category]\n",
    "        \n",
    "    # only query candidates where the min time can fit into the remaining time\n",
    "    remaining_time = practice_time_minutes - session.time.sum()\n",
    "    candidates = items.query('min_time <= {0}'.format(remaining_time))\n",
    "    \n",
    "    # If no candidates left, we must abort\n",
    "    if len(candidates) == 0:\n",
    "        print('unable to fill session')\n",
    "        break\n",
    "        \n",
    "    # pick the next item\n",
    "    i = candidates.sample(n=1, weights='weight')\n",
    "    \n",
    "    item_time = i.time.iloc[0]\n",
    "    item_min_time = i.min_time.iloc[0]\n",
    "    item_max_time = i.max_time.iloc[0]\n",
    "        \n",
    "    if item_time <= remaining_time:\n",
    "        # if the item fits, use it\n",
    "        session = session.append(i)\n",
    "        items = items.drop(i.index)\n",
    "    else:\n",
    "        # trim the item time to the remaining (without exceeding item cap)\n",
    "        print('setting time to remaining')\n",
    "        i.loc[:,'time'] = min(remaining_time, item_max_time)\n",
    "        session = session.append(i)\n",
    "        items = items.drop(i.index)"
   ]
  },
  {
   "cell_type": "markdown",
   "metadata": {},
   "source": [
    "## Final Shuffle\n",
    "\n",
    "Shuffle the items within each sort_order group, while still respecting the sort order overall. This prevents essential items always appearing at the start of the session."
   ]
  },
  {
   "cell_type": "code",
   "execution_count": 26,
   "metadata": {
    "collapsed": true
   },
   "outputs": [],
   "source": [
    "session['r'] = np.random.uniform(size=len(session))\n",
    "session.sort_values(by=['sort_order', 'r'], inplace=True)"
   ]
  },
  {
   "cell_type": "markdown",
   "metadata": {},
   "source": [
    "# Today's Practice Session"
   ]
  },
  {
   "cell_type": "code",
   "execution_count": 27,
   "metadata": {},
   "outputs": [
    {
     "name": "stdout",
     "output_type": "stream",
     "text": [
      "Planned total time: 45\n",
      "Estimated total time: 44\n",
      "Session time: 36\n",
      "Planned time buffer: 8\n"
     ]
    }
   ],
   "source": [
    "session_time = session.time.sum()\n",
    "print('Planned total time: {0}'.format(total_time_minutes))\n",
    "print('Estimated total time: {0}'.format(session_time + buffer_time))\n",
    "print('Session time: {0}'.format(session_time))\n",
    "print('Planned time buffer: {0}'.format(buffer_time))"
   ]
  },
  {
   "cell_type": "code",
   "execution_count": 31,
   "metadata": {
    "scrolled": false
   },
   "outputs": [
    {
     "data": {
      "text/html": [
       "<div>\n",
       "<style>\n",
       "    .dataframe thead tr:only-child th {\n",
       "        text-align: right;\n",
       "    }\n",
       "\n",
       "    .dataframe thead th {\n",
       "        text-align: left;\n",
       "    }\n",
       "\n",
       "    .dataframe tbody tr th {\n",
       "        vertical-align: top;\n",
       "    }\n",
       "</style>\n",
       "<table border=\"1\" class=\"dataframe\">\n",
       "  <thead>\n",
       "    <tr style=\"text-align: right;\">\n",
       "      <th></th>\n",
       "      <th>name</th>\n",
       "      <th>category</th>\n",
       "      <th>tempo</th>\n",
       "      <th>notes</th>\n",
       "      <th>time</th>\n",
       "    </tr>\n",
       "  </thead>\n",
       "  <tbody>\n",
       "    <tr>\n",
       "      <th>0</th>\n",
       "      <td>Chair, pillow, &amp; cup</td>\n",
       "      <td>technique</td>\n",
       "      <td></td>\n",
       "      <td>GP #1 #2</td>\n",
       "      <td>1</td>\n",
       "    </tr>\n",
       "    <tr>\n",
       "      <th>33</th>\n",
       "      <td>String push downs</td>\n",
       "      <td>technique</td>\n",
       "      <td>3 reps</td>\n",
       "      <td>GP #18</td>\n",
       "      <td>2</td>\n",
       "    </tr>\n",
       "    <tr>\n",
       "      <th>31</th>\n",
       "      <td>Finger flapping</td>\n",
       "      <td>technique</td>\n",
       "      <td>3 reps</td>\n",
       "      <td>GP #17</td>\n",
       "      <td>1</td>\n",
       "    </tr>\n",
       "    <tr>\n",
       "      <th>17</th>\n",
       "      <td>Hurt chords</td>\n",
       "      <td>practice</td>\n",
       "      <td>NT</td>\n",
       "      <td>learn progression and LH fingering</td>\n",
       "      <td>5</td>\n",
       "    </tr>\n",
       "    <tr>\n",
       "      <th>36</th>\n",
       "      <td>Aaron Shearer #3</td>\n",
       "      <td>sight reading</td>\n",
       "      <td>slow</td>\n",
       "      <td>rest strokes</td>\n",
       "      <td>2</td>\n",
       "    </tr>\n",
       "    <tr>\n",
       "      <th>9</th>\n",
       "      <td>Thumb up (all strings)</td>\n",
       "      <td>technique</td>\n",
       "      <td>3 reps</td>\n",
       "      <td>GP #4</td>\n",
       "      <td>2</td>\n",
       "    </tr>\n",
       "    <tr>\n",
       "      <th>18</th>\n",
       "      <td>House of the Rising Sun</td>\n",
       "      <td>repertoire</td>\n",
       "      <td>150 in 6/8</td>\n",
       "      <td></td>\n",
       "      <td>5</td>\n",
       "    </tr>\n",
       "    <tr>\n",
       "      <th>38</th>\n",
       "      <td>Fingerstyle 101 Em Study</td>\n",
       "      <td>pattern</td>\n",
       "      <td>90 – 123</td>\n",
       "      <td>The Pinch - (pm)pipmpi</td>\n",
       "      <td>5</td>\n",
       "    </tr>\n",
       "    <tr>\n",
       "      <th>43</th>\n",
       "      <td>Aaron Shearer #7</td>\n",
       "      <td>sight reading</td>\n",
       "      <td>slow</td>\n",
       "      <td>rest strokes</td>\n",
       "      <td>2</td>\n",
       "    </tr>\n",
       "    <tr>\n",
       "      <th>34</th>\n",
       "      <td>Aaron Shearer #1</td>\n",
       "      <td>sight reading</td>\n",
       "      <td>slow</td>\n",
       "      <td>rest strokes</td>\n",
       "      <td>2</td>\n",
       "    </tr>\n",
       "    <tr>\n",
       "      <th>3</th>\n",
       "      <td>1 Minute Changes</td>\n",
       "      <td>technique</td>\n",
       "      <td></td>\n",
       "      <td></td>\n",
       "      <td>4</td>\n",
       "    </tr>\n",
       "    <tr>\n",
       "      <th>2</th>\n",
       "      <td>Fast Car strumming section</td>\n",
       "      <td>practice</td>\n",
       "      <td>60 – 90</td>\n",
       "      <td>1 2+ +4+</td>\n",
       "      <td>5</td>\n",
       "    </tr>\n",
       "  </tbody>\n",
       "</table>\n",
       "</div>"
      ],
      "text/plain": [
       "                          name       category       tempo  \\\n",
       "0         Chair, pillow, & cup      technique               \n",
       "33           String push downs      technique      3 reps   \n",
       "31             Finger flapping      technique      3 reps   \n",
       "17                 Hurt chords       practice          NT   \n",
       "36            Aaron Shearer #3  sight reading        slow   \n",
       "9       Thumb up (all strings)      technique      3 reps   \n",
       "18     House of the Rising Sun     repertoire  150 in 6/8   \n",
       "38    Fingerstyle 101 Em Study        pattern    90 – 123   \n",
       "43            Aaron Shearer #7  sight reading        slow   \n",
       "34            Aaron Shearer #1  sight reading        slow   \n",
       "3             1 Minute Changes      technique               \n",
       "2   Fast Car strumming section       practice     60 – 90   \n",
       "\n",
       "                                 notes  time  \n",
       "0                             GP #1 #2     1  \n",
       "33                              GP #18     2  \n",
       "31                              GP #17     1  \n",
       "17  learn progression and LH fingering     5  \n",
       "36                        rest strokes     2  \n",
       "9                                GP #4     2  \n",
       "18                                         5  \n",
       "38              The Pinch - (pm)pipmpi     5  \n",
       "43                        rest strokes     2  \n",
       "34                        rest strokes     2  \n",
       "3                                          4  \n",
       "2                             1 2+ +4+     5  "
      ]
     },
     "execution_count": 31,
     "metadata": {},
     "output_type": "execute_result"
    }
   ],
   "source": [
    "display_session = session[['name', 'category', 'tempo', 'notes', 'time']]\n",
    "display_session"
   ]
  },
  {
   "cell_type": "code",
   "execution_count": 38,
   "metadata": {},
   "outputs": [],
   "source": [
    "display_session.to_csv(\n",
    "    './test.csv',\n",
    "    index=False,\n",
    "    index_label=False,\n",
    "    encoding='utf-8',\n",
    ")"
   ]
  }
 ],
 "metadata": {
  "kernelspec": {
   "display_name": "Python 3",
   "language": "python",
   "name": "python3"
  },
  "language_info": {
   "codemirror_mode": {
    "name": "ipython",
    "version": 3
   },
   "file_extension": ".py",
   "mimetype": "text/x-python",
   "name": "python",
   "nbconvert_exporter": "python",
   "pygments_lexer": "ipython3",
   "version": "3.4.2"
  }
 },
 "nbformat": 4,
 "nbformat_minor": 2
}
