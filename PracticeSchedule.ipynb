{
 "cells": [
  {
   "cell_type": "code",
   "execution_count": null,
   "metadata": {
    "collapsed": true
   },
   "outputs": [],
   "source": [
    "import random\n",
    "import numpy as np\n",
    "import pandas as pd"
   ]
  },
  {
   "cell_type": "markdown",
   "metadata": {},
   "source": [
    "# Music Practice Builder\n",
    "- Load data\n",
    "- create empty practice session\n",
    "- split into essential and non-essential items\n",
    "- add essential items to session\n",
    "- sort by priority\n"
   ]
  },
  {
   "cell_type": "markdown",
   "metadata": {},
   "source": [
    "## Configuration"
   ]
  },
  {
   "cell_type": "code",
   "execution_count": null,
   "metadata": {
    "collapsed": true
   },
   "outputs": [],
   "source": [
    "input_file = './practice_elements.xlsx'\n",
    "practice_time_minutes = 30"
   ]
  },
  {
   "cell_type": "markdown",
   "metadata": {},
   "source": [
    "Boosting a category inflates the chance that items in that category will be selected for the session. The boost value determines the amount of overrepresentation.\n",
    "\n",
    "The current implementation uses random sampling from the item pool, and so only integer boosts are allowed. Boosting is implemented by adding multiple copies of the given category. Later implementations may use a roulette wheel random selection, which will allow fractional boost values.\n",
    "\n",
    "A value of 0 indicates that the category should not be boosted."
   ]
  },
  {
   "cell_type": "code",
   "execution_count": null,
   "metadata": {
    "collapsed": true
   },
   "outputs": [],
   "source": [
    "category_boosters = {\n",
    "    'pattern': 0,\n",
    "    'technique': 0,\n",
    "    'repertoire': 0,\n",
    "    'sight reading': 2,\n",
    "}"
   ]
  },
  {
   "cell_type": "markdown",
   "metadata": {},
   "source": [
    "## Slicing and dicing the data"
   ]
  },
  {
   "cell_type": "code",
   "execution_count": null,
   "metadata": {
    "collapsed": true
   },
   "outputs": [],
   "source": [
    "data = pd.read_excel(\n",
    "    input_file, \n",
    "    header=0,\n",
    "    converters=\n",
    "    {\n",
    "        'min_time': int,\n",
    "        'max_time': int,\n",
    "        'priority': float,\n",
    "        'essential': bool,\n",
    "    })"
   ]
  },
  {
   "cell_type": "code",
   "execution_count": null,
   "metadata": {
    "collapsed": true
   },
   "outputs": [],
   "source": [
    "session = data.query('essential == True')"
   ]
  },
  {
   "cell_type": "code",
   "execution_count": null,
   "metadata": {},
   "outputs": [],
   "source": [
    "items = data.query('essential == False')"
   ]
  },
  {
   "cell_type": "markdown",
   "metadata": {},
   "source": [
    "Apply the category boosts"
   ]
  },
  {
   "cell_type": "code",
   "execution_count": null,
   "metadata": {},
   "outputs": [],
   "source": [
    "for category, boost in category_boosters.items():\n",
    "    if boost > 0:\n",
    "        items_to_boost = items.query(\"category == '{0}'\".format(category))\n",
    "        items = items.append([items_to_boost] * boost, ignore_index=True)"
   ]
  },
  {
   "cell_type": "markdown",
   "metadata": {},
   "source": [
    "## Generate the initial set of random times for the essential items"
   ]
  },
  {
   "cell_type": "code",
   "execution_count": null,
   "metadata": {},
   "outputs": [],
   "source": [
    "times_df = pd.DataFrame({'time':session.apply(lambda row: random.randrange(row.min_time, row.max_time+1), axis=1)}, \n",
    "                        index=session.index)\n",
    "session = session.join(times_df)"
   ]
  },
  {
   "cell_type": "markdown",
   "metadata": {},
   "source": [
    "## Fill the rest of the session"
   ]
  },
  {
   "cell_type": "code",
   "execution_count": null,
   "metadata": {},
   "outputs": [],
   "source": [
    "num_attempts_to_fill_time = 0\n",
    "max_attempts_to_fill_time = 100\n",
    "while session.time.sum() < practice_time_minutes and len(items) > 0:\n",
    "    i = items.sample(n=1)\n",
    "    items = items.drop(i.index)\n",
    "    i['time'] = random.randrange(i.min_time.iloc[0], i.max_time.iloc[0]+1)\n",
    "    if session.time.sum() + i.time.sum() <= practice_time_minutes:\n",
    "        session = session.append(i)\n",
    "    else:\n",
    "        num_attempts_to_fill_time += 1\n",
    "        if num_attempts_to_fill_time < max_attempts_to_fill_time:\n",
    "            print(num_attempts_to_fill_time)\n",
    "            continue\n",
    "        else:\n",
    "            print('Bailing out, may not have filled all time')\n",
    "            break"
   ]
  },
  {
   "cell_type": "markdown",
   "metadata": {},
   "source": [
    "# Today's Practice Session"
   ]
  },
  {
   "cell_type": "code",
   "execution_count": null,
   "metadata": {},
   "outputs": [],
   "source": [
    "print('Target time: {0}, Actual time: {1}'.format(practice_time_minutes, session.time.sum()))"
   ]
  },
  {
   "cell_type": "code",
   "execution_count": null,
   "metadata": {},
   "outputs": [],
   "source": [
    "session.sort_values(by='priority')[['name', 'category', 'time']]"
   ]
  }
 ],
 "metadata": {
  "kernelspec": {
   "display_name": "Python [conda root]",
   "language": "python",
   "name": "conda-root-py"
  },
  "language_info": {
   "codemirror_mode": {
    "name": "ipython",
    "version": 3
   },
   "file_extension": ".py",
   "mimetype": "text/x-python",
   "name": "python",
   "nbconvert_exporter": "python",
   "pygments_lexer": "ipython3",
   "version": "3.5.3"
  }
 },
 "nbformat": 4,
 "nbformat_minor": 2
}
