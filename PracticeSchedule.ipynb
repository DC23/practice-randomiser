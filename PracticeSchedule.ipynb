{
 "cells": [
  {
   "cell_type": "markdown",
   "metadata": {},
   "source": [
    "# Music Practice Builder\n",
    "- Load data\n",
    "- create empty practice session\n",
    "- split into essential and non-essential items\n",
    "- add essential items to session\n",
    "- sort by priority\n"
   ]
  },
  {
   "cell_type": "markdown",
   "metadata": {},
   "source": [
    "## Configuration"
   ]
  },
  {
   "cell_type": "code",
   "execution_count": null,
   "metadata": {
    "collapsed": true
   },
   "outputs": [],
   "source": [
    "import math\n",
    "import random\n",
    "import numpy as np\n",
    "import pandas as pd\n",
    "\n",
    "%matplotlib inline"
   ]
  },
  {
   "cell_type": "code",
   "execution_count": null,
   "metadata": {
    "collapsed": true
   },
   "outputs": [],
   "source": [
    "#input_file = './practice_elements.xlsx'\n",
    "input_file = '~/Dropbox/practice_elements.xlsx'\n",
    "practice_time_minutes = 45\n",
    "category_item_limits_time_block_minutes = 30  # Interpret the category item limits as being per a time block"
   ]
  },
  {
   "cell_type": "markdown",
   "metadata": {},
   "source": [
    "## Load the data"
   ]
  },
  {
   "cell_type": "code",
   "execution_count": null,
   "metadata": {
    "collapsed": true
   },
   "outputs": [],
   "source": [
    "categories = pd.read_excel(\n",
    "    input_file,\n",
    "    sheetname='categories',\n",
    "    index_col=0,\n",
    "    converters=\n",
    "    {\n",
    "        'min_items': int,\n",
    "        'max_items': int,\n",
    "    })"
   ]
  },
  {
   "cell_type": "code",
   "execution_count": null,
   "metadata": {
    "collapsed": true
   },
   "outputs": [],
   "source": [
    "data = pd.read_excel(\n",
    "    input_file, \n",
    "    sheetname='items',\n",
    "    converters=\n",
    "    {\n",
    "        'min_time': int,\n",
    "        'max_time': int,\n",
    "        'priority': float,\n",
    "        'essential': bool,\n",
    "        'tempo': str,\n",
    "        'notes': str,\n",
    "    })"
   ]
  },
  {
   "cell_type": "markdown",
   "metadata": {},
   "source": [
    "Fill in missing values with sensible defaults:"
   ]
  },
  {
   "cell_type": "code",
   "execution_count": null,
   "metadata": {},
   "outputs": [],
   "source": [
    "data.weight = data.weight.fillna(1)\n",
    "data.min_time = data.min_time.fillna(2)\n",
    "data.max_time = data.max_time.fillna(5)\n",
    "data.sort_order = data.sort_order.fillna(2)\n",
    "data.tempo = data.tempo.fillna('')\n",
    "data.notes = data.notes.fillna('')"
   ]
  },
  {
   "cell_type": "markdown",
   "metadata": {},
   "source": [
    "The max_items category values are per a minimal practice time. Adjust them now:"
   ]
  },
  {
   "cell_type": "code",
   "execution_count": null,
   "metadata": {},
   "outputs": [],
   "source": [
    "category_item_limit_scale = max(1, round(practice_time_minutes / category_item_limits_time_block_minutes))\n",
    "categories.min_items *= category_item_limit_scale\n",
    "categories.max_items *= category_item_limit_scale\n",
    "categories"
   ]
  },
  {
   "cell_type": "markdown",
   "metadata": {},
   "source": [
    "## Generate the random item times"
   ]
  },
  {
   "cell_type": "code",
   "execution_count": null,
   "metadata": {
    "collapsed": true
   },
   "outputs": [],
   "source": [
    "def generate_random_times(df):\n",
    "    return pd.DataFrame(\n",
    "        {'time': df.apply(lambda row: random.randrange(row.min_time, row.max_time+1), axis=1)}, \n",
    "        index=df.index)"
   ]
  },
  {
   "cell_type": "code",
   "execution_count": null,
   "metadata": {
    "collapsed": true
   },
   "outputs": [],
   "source": [
    "data = data.join(generate_random_times(data))"
   ]
  },
  {
   "cell_type": "markdown",
   "metadata": {},
   "source": [
    "## Populate the session with the essential items"
   ]
  },
  {
   "cell_type": "code",
   "execution_count": null,
   "metadata": {
    "collapsed": true
   },
   "outputs": [],
   "source": [
    "session = data.query('essential == True')"
   ]
  },
  {
   "cell_type": "markdown",
   "metadata": {},
   "source": [
    "## Extract the set of candidate items"
   ]
  },
  {
   "cell_type": "code",
   "execution_count": null,
   "metadata": {},
   "outputs": [],
   "source": [
    "items = data.query('essential == False and weight > 0')"
   ]
  },
  {
   "cell_type": "markdown",
   "metadata": {},
   "source": [
    "## Process the category minimum item count constraint"
   ]
  },
  {
   "cell_type": "code",
   "execution_count": null,
   "metadata": {
    "collapsed": true
   },
   "outputs": [],
   "source": [
    "for category, group in items.groupby('category'):\n",
    "    # For this category, attempt to select the min number of items\n",
    "    try:\n",
    "        min_items = categories.loc[category].min_items\n",
    "        current = len(session[session.category == category])\n",
    "        required = min(min_items - current, len(group))\n",
    "        if not np.isnan(required) and required > 0:\n",
    "            new_items = group.sample(n=required, weights='weight')\n",
    "            items = items.drop(new_items.index)\n",
    "            session = session.append(new_items)\n",
    "    except:\n",
    "        pass"
   ]
  },
  {
   "cell_type": "markdown",
   "metadata": {},
   "source": [
    "## Fill the rest of the session"
   ]
  },
  {
   "cell_type": "code",
   "execution_count": null,
   "metadata": {},
   "outputs": [],
   "source": [
    "while session.time.sum() < practice_time_minutes and len(items) > 0:\n",
    "    # Clean out any maxed categories from the candidate items\n",
    "    for category, group in items.groupby('category'):\n",
    "        current_items_in_category = len(session[session.category == category])\n",
    "        max_category = categories.loc[category].max_items\n",
    "        if not np.isnan(max_category) and current_items_in_category >= max_category:\n",
    "            print('Category \"{0}\" reached maximum item count ({1})'.format(category, max_category))\n",
    "            items = items[items.category != category]\n",
    "        \n",
    "    # only query candidates where the min time can fit into the remaining time\n",
    "    remaining_time = practice_time_minutes - session.time.sum()\n",
    "    candidates = items.query('min_time <= {0}'.format(remaining_time))\n",
    "    \n",
    "    # If no candidates left, we must abort\n",
    "    if len(candidates) == 0:\n",
    "        print('unable to fill session')\n",
    "        break\n",
    "        \n",
    "    # pick the next item\n",
    "    i = candidates.sample(n=1, weights='weight')\n",
    "    \n",
    "    item_time = i.time.iloc[0]\n",
    "    item_min_time = i.min_time.iloc[0]\n",
    "    item_max_time = i.max_time.iloc[0]\n",
    "        \n",
    "    if item_time <= remaining_time:\n",
    "        # if the item fits, use it\n",
    "        session = session.append(i)\n",
    "        items = items.drop(i.index)\n",
    "    else:\n",
    "        # trim the item time to the remaining (without exceeding item cap)\n",
    "        print('setting time to remaining')\n",
    "        i.loc[:,'time'] = min(remaining_time, item_max_time)\n",
    "        session = session.append(i)\n",
    "        items = items.drop(i.index)"
   ]
  },
  {
   "cell_type": "markdown",
   "metadata": {},
   "source": [
    "# Today's Practice Session"
   ]
  },
  {
   "cell_type": "code",
   "execution_count": null,
   "metadata": {},
   "outputs": [],
   "source": [
    "print('Target time: {0}, Actual time: {1}'.format(practice_time_minutes, session.time.sum()))"
   ]
  },
  {
   "cell_type": "code",
   "execution_count": null,
   "metadata": {},
   "outputs": [],
   "source": [
    "session.sort_values(by='sort_order')[['name', 'category', 'tempo', 'notes', 'time']]"
   ]
  },
  {
   "cell_type": "code",
   "execution_count": null,
   "metadata": {},
   "outputs": [],
   "source": [
    "session.groupby('category').name.count().plot()"
   ]
  },
  {
   "cell_type": "code",
   "execution_count": null,
   "metadata": {},
   "outputs": [],
   "source": [
    "session.groupby('category').time.sum().plot()"
   ]
  }
 ],
 "metadata": {
  "kernelspec": {
   "display_name": "Python 3",
   "language": "python",
   "name": "python3"
  },
  "language_info": {
   "codemirror_mode": {
    "name": "ipython",
    "version": 3
   },
   "file_extension": ".py",
   "mimetype": "text/x-python",
   "name": "python",
   "nbconvert_exporter": "python",
   "pygments_lexer": "ipython3",
   "version": "3.4.2"
  }
 },
 "nbformat": 4,
 "nbformat_minor": 2
}
